{
 "cells": [
  {
   "cell_type": "markdown",
   "metadata": {
    "pycharm": {
     "name": "#%% md\n"
    },
    "rise": {
     "theme": "sky"
    },
    "slideshow": {
     "slide_type": "slide"
    }
   },
   "source": [
    "# Hands-On in Reinforcement Learning in Python\n",
    "In this notebook we will implement a some Reinforcement algorithm (Q-Learning, Deep Q-Network (DQN), REINFORCE)  to solve the different environments from OpenAI Gym.\n",
    "In doing this, we will learn the basics of the Gym library, how to implement a QL, DQN, and REINFORCE agent, and how to train it.\n",
    "This notebook is based on the following resources:\n",
    "- [Deep Reinforcement Learning Hands-On](https://www.amazon.com/Deep-Reinforcement-Learning-Hands-Q-networks/dp/1788834240)\n",
    "- [Torch Implementation](https://pytorch.org/tutorials/intermediate/reinforcement_q_learning.html)\n",
    "\n",
    "Finally, we will compare our implementation with the Stable Baselines 3 implementation."
   ]
  },
  {
   "cell_type": "markdown",
   "metadata": {
    "pycharm": {
     "name": "#%% md\n"
    },
    "slideshow": {
     "slide_type": "slide"
    }
   },
   "source": [
    "## Requirements and Imports\n",
    "First we need to install the requirements for this notebook.\n",
    "We will use the following libraries:\n",
    "- Gymnasium: Gymnasium is a collection of environments for OpenAI Gym.\n",
    "- PyTorch: PyTorch is a deep learning framework, it is the most popular framework for deep learning research.\n",
    "- Stable Baselines 3: Stable Baselines 3 is a library that implements several reinforcement learning algorithms.\n",
    "- Virtualdisplay: Virtualdisplay is a library that allows us to render the environment in a headless server (i.e., in jupyter)\n",
    "- Matplotlib: Matplotlib is a plotting library for python."
   ]
  },
  {
   "cell_type": "markdown",
   "metadata": {
    "pycharm": {
     "name": "#%% md\n"
    },
    "slideshow": {
     "slide_type": "skip"
    }
   },
   "source": [
    "Deep Reinforcement Learning Libraries"
   ]
  },
  {
   "cell_type": "code",
   "execution_count": 1,
   "metadata": {
    "ExecuteTime": {
     "end_time": "2023-05-25T06:55:14.027099072Z",
     "start_time": "2023-05-25T06:55:03.592550179Z"
    },
    "pycharm": {
     "name": "#%%\n"
    },
    "slideshow": {
     "slide_type": "skip"
    }
   },
   "outputs": [],
   "source": [
    "!pip install swig==4.1.1 > /dev/null 2>&1\n",
    "!pip install box2d-py==2.3.5 > /dev/null 2>&1\n",
    "!pip install numpy=y=1.21.5 > /dev/null 2>&1\n",
    "!pip install 'stable-baselines3>=2.0.0a9' > /dev/null 2>&1\n",
    "!pip install 'gymnasium==0.28.1' > /dev/null 2>&1\n",
    "!pip install 'gymnasium[box2d]==0.28.1' > /dev/null 2>&1\n",
    "!pip3 install torch torchvision torchaudio > /dev/null 2>&1\n",
    "!pip3 install 'protobuf==3.20.*' > /dev/null 2>&1"
   ]
  },
  {
   "cell_type": "markdown",
   "metadata": {
    "pycharm": {
     "name": "#%% md\n"
    },
    "slideshow": {
     "slide_type": "skip"
    }
   },
   "source": [
    "Visualization Libraries, NB! This works only on Linux! If you have problem in running this, you can upload this notebook to Google Colab and run it there."
   ]
  },
  {
   "cell_type": "code",
   "execution_count": 2,
   "metadata": {
    "ExecuteTime": {
     "end_time": "2023-05-25T06:55:34.825545357Z",
     "start_time": "2023-05-25T06:55:30.878471227Z"
    },
    "pycharm": {
     "name": "#%%\n"
    },
    "slideshow": {
     "slide_type": "skip"
    }
   },
   "outputs": [],
   "source": [
    "!apt-get install -y xvfb x11-utils > /dev/null 2>&1\n",
    "!pip install matplotlib > /dev/null 2>&1\n",
    "!pip install xvfbwrapper > /dev/null 2>&1\n",
    "!pip install 'pyvirtualdisplay==0.2.*'  'PyOpenGL==3.1.*' 'PyOpenGL-accelerate==3.1.*' > /dev/null 2>&1"
   ]
  },
  {
   "cell_type": "markdown",
   "metadata": {
    "pycharm": {
     "name": "#%% md\n"
    },
    "slideshow": {
     "slide_type": "skip"
    }
   },
   "source": [
    "For the sake of simplicity, we import all the libraries we will use in this notebook here."
   ]
  },
  {
   "cell_type": "code",
   "execution_count": 3,
   "metadata": {
    "ExecuteTime": {
     "end_time": "2023-05-25T06:55:36.306917409Z",
     "start_time": "2023-05-25T06:55:34.868558258Z"
    },
    "pycharm": {
     "name": "#%%\n"
    },
    "slideshow": {
     "slide_type": "skip"
    }
   },
   "outputs": [
    {
     "name": "stderr",
     "output_type": "stream",
     "text": [
      "/home/gianluca/.local/lib/python3.9/site-packages/ale_py/roms/__init__.py:94: DeprecationWarning: Automatic importing of atari-py roms won't be supported in future releases of ale-py. Please migrate over to using `ale-import-roms` OR an ALE-supported ROM package. To make this warning disappear you can run `ale-import-roms --import-from-pkg atari_py.atari_roms`.For more information see: https://github.com/mgbellemare/Arcade-Learning-Environment#rom-management\n",
      "  _RESOLVED_ROMS = _resolve_roms()\n"
     ]
    }
   ],
   "source": [
    "# For protobuffer\n",
    "import os\n",
    "os.environ[\"PROTOCOL_BUFFERS_PYTHON_IMPLEMENTATION\"] = \"python\"\n",
    "## For environments\n",
    "import gymnasium as gym\n",
    "### From rendering\n",
    "from IPython import display\n",
    "import pyvirtualdisplay\n",
    "### For the agent and training\n",
    "import torch\n",
    "import torch.nn as nn\n",
    "import torch.nn.functional as F\n",
    "import torch.optim as optim\n",
    "import torch.distributions as distributions\n",
    "from torch.distributions import Categorical\n",
    "import copy\n",
    "## For replay buffer\n",
    "from random import random\n",
    "from random import sample\n",
    "from collections import deque\n",
    "# Plotting\n",
    "import matplotlib.pyplot as plt\n",
    "# Reproducibility\n",
    "from random import seed\n",
    "from stable_baselines3 import PPO\n",
    "from stable_baselines3.common.env_util import make_vec_env\n",
    "# for Q-Learning\n",
    "import numpy as np\n",
    "# for rendering purposes\n",
    "import time\n",
    "# pandas\n",
    "import pandas as pd"
   ]
  },
  {
   "cell_type": "markdown",
   "metadata": {
    "pycharm": {
     "name": "#%% md\n"
    },
    "slideshow": {
     "slide_type": "slide"
    }
   },
   "source": [
    "## Gymnasium\n",
    "Gymnasium is a collection of environments for OpenAI Gym.\n",
    "The **goal** of Gymnasium is to provide a collection of environments that are easy to **use** and easy to **install**.\n",
    "\n",
    "Moreover, Gymnasium provides a collection of **wrappers** that can be used to modify the behavior of the environments.\n",
    "Finally, it is possible to create new environments by combining existing ones or by creating new ones from scratch.\n",
    "\n",
    "Firstly, we need to create a virtual display to render the environment in the notebook"
   ]
  },
  {
   "cell_type": "code",
   "execution_count": 4,
   "metadata": {
    "pycharm": {
     "name": "#%%\n"
    },
    "slideshow": {
     "slide_type": "fragment"
    }
   },
   "outputs": [
    {
     "data": {
      "text/plain": "<Display cmd_param=['Xvfb', '-br', '-nolisten', 'tcp', '-screen', '0', '1400x900x24', ':1001'] cmd=['Xvfb', '-br', '-nolisten', 'tcp', '-screen', '0', '1400x900x24', ':1001'] oserror=None return_code=None stdout=\"None\" stderr=\"None\" timeout_happened=False>"
     },
     "execution_count": 4,
     "metadata": {},
     "output_type": "execute_result"
    }
   ],
   "source": [
    "pyvirtualdisplay.Display(visible=False, size=(1400, 900)).start()"
   ]
  },
  {
   "cell_type": "markdown",
   "metadata": {
    "pycharm": {
     "name": "#%% md\n"
    },
    "slideshow": {
     "slide_type": "subslide"
    }
   },
   "source": [
    "## Gym Basic\n",
    "The typical usage of Gym is the following:\n",
    "1. Create the environment: `env = gym.make(\"EnvName\")`\n",
    "2. Reset the environment: `env.reset()`\n",
    "3. Iterate unless the environment is done:\n",
    "    1. Pick an action: `action = ???`\n",
    "    2. Progress the environment: `env.step(action)`\n"
   ]
  },
  {
   "cell_type": "code",
   "execution_count": 5,
   "metadata": {
    "pycharm": {
     "name": "#%%\n"
    },
    "slideshow": {
     "slide_type": "subslide"
    }
   },
   "outputs": [
    {
     "data": {
      "text/plain": "<Figure size 640x480 with 1 Axes>",
      "image/png": "[encoded data removed]"
     },
     "metadata": {},
     "output_type": "display_data"
    }
   ],
   "source": [
    "def visualize_environment(env, sleep=0, length=10):\n",
    "    env.reset() ## When the env is created it should be reset to initialize the state\n",
    "    img = plt.imshow(env.render()) ## Used for rendering purposes\n",
    "    print(env.action_space.sample()) ## Action space is the set of actions that are possible in a given environment\n",
    "    for i in range(length): ## Run for 100 steps\n",
    "        env.step(env.action_space.sample()) ## Pick a random action and progress the environment\n",
    "        img.set_data(env.render())\n",
    "        plt.axis('off')\n",
    "        display.display(plt.gcf())\n",
    "        display.clear_output(wait=True)\n",
    "        time.sleep(sleep)\n",
    "## Create environment\n",
    "env = gym.make('FrozenLake-v1', desc=None, render_mode=\"rgb_array\", is_slippery=False)\n",
    "visualize_environment(env, 1)"
   ]
  },
  {
   "cell_type": "markdown",
   "metadata": {
    "pycharm": {
     "name": "#%% md\n"
    },
    "slideshow": {
     "slide_type": "subslide"
    }
   },
   "source": [
    "## Frozen Lake\n",
    "The Frozen Lake environment is a 4x4 grid where the goal is to reach the **goal state** (G) from the **start state** (S).\n",
    "\n",
    "It is an *episodic* environment, meaning that the episode ends when the agent reaches the goal or falls in a hole (H).\n",
    "By default, the agent starts in the (0,0) position. The ground is *slippery*, meaning that the agent will not always move in the direction it chooses. \n",
    "It this case, we decide to remove the slippery ground since we use simple Q-Learning."
   ]
  },
  {
   "cell_type": "markdown",
   "metadata": {
    "pycharm": {
     "name": "#%% md\n"
    },
    "slideshow": {
     "slide_type": "subslide"
    }
   },
   "source": [
    "### Action Space\n",
    "\n",
    "The action space is discrete and has 4 possible actions:\n",
    "- Left\n",
    "- Down\n",
    "- Right\n",
    "- Up"
   ]
  },
  {
   "cell_type": "markdown",
   "metadata": {
    "pycharm": {
     "name": "#%% md\n"
    },
    "slideshow": {
     "slide_type": "fragment"
    }
   },
   "source": [
    "### Observation space\n",
    "The observation space is discrete and has 16 possible states, one for each position in the grid.\n",
    "\n",
    "**NB**: the hole are considered fixed, meaning that they are always in the same position."
   ]
  },
  {
   "cell_type": "markdown",
   "metadata": {
    "pycharm": {
     "name": "#%% md\n"
    },
    "slideshow": {
     "slide_type": "fragment"
    }
   },
   "source": [
    "### Reward \n",
    "+1 if the agent reaches the goal state, 0 otherwise"
   ]
  },
  {
   "cell_type": "markdown",
   "metadata": {
    "pycharm": {
     "name": "#%% md\n"
    },
    "slideshow": {
     "slide_type": "slide"
    }
   },
   "source": [
    "## Q-Learning\n",
    "Q-Learning is a model-free reinforcement learning algorithm that learns the value of an action in a particular state.\n",
    "\n",
    "The Q-value can be represented as a table where each row represents a state and each column represents an action.\n",
    "\n",
    "Particularly, using **numpy**, we can represent the Q-table as a matrix of size `num_states` x `num_actions`."
   ]
  },
  {
   "cell_type": "code",
   "execution_count": 6,
   "metadata": {
    "pycharm": {
     "name": "#%%\n"
    },
    "slideshow": {
     "slide_type": "fragment"
    }
   },
   "outputs": [
    {
     "data": {
      "text/plain": "array([[0., 0., 0., 0.],\n       [0., 0., 0., 0.],\n       [0., 0., 0., 0.],\n       [0., 0., 0., 0.],\n       [0., 0., 0., 0.],\n       [0., 0., 0., 0.],\n       [0., 0., 0., 0.],\n       [0., 0., 0., 0.],\n       [0., 0., 0., 0.],\n       [0., 0., 0., 0.],\n       [0., 0., 0., 0.],\n       [0., 0., 0., 0.],\n       [0., 0., 0., 0.],\n       [0., 0., 0., 0.],\n       [0., 0., 0., 0.],\n       [0., 0., 0., 0.]])"
     },
     "execution_count": 6,
     "metadata": {},
     "output_type": "execute_result"
    }
   ],
   "source": [
    "Q = np.zeros((env.observation_space.n, env.action_space.n)) ## we can initialize the matrix with 0 or random number\n",
    "Q"
   ]
  },
  {
   "cell_type": "markdown",
   "metadata": {
    "pycharm": {
     "name": "#%% md\n"
    },
    "slideshow": {
     "slide_type": "subslide"
    }
   },
   "source": [
    "### Learning phase\n",
    "The learning phase is composed of the following steps:\n",
    "1. Initialize the Q-table with zeros\n",
    "2. Observe the current state\n",
    "3. Choose an action using an epsilon-greedy policy\n",
    "4. Take the action and observe the next state and reward\n",
    "5. Update the Q-table using the Bellman equation\n",
    "6. Repeat from step 2 until the episode is done\n",
    "7. Repeat from step 2 until the total number of episodes is reached\n",
    "\n",
    "The Bellman equation is the following:\n",
    "$$Q(s,a) = Q(s,a) + \\alpha \\cdot (r + \\gamma \\cdot \\max_{a'} Q(s',a') - Q(s,a))$$\n"
   ]
  },
  {
   "cell_type": "code",
   "execution_count": 7,
   "metadata": {
    "pycharm": {
     "name": "#%%\n"
    },
    "slideshow": {
     "slide_type": "subslide"
    }
   },
   "outputs": [],
   "source": [
    "def q_learning(environment, num_episodes, learning_rate=0.5, discount_factor=0.9, exploration_prob=1.0, epsilon_decay=0.999):\n",
    "    num_states = env.observation_space.n\n",
    "    num_actions = env.action_space.n\n",
    "\n",
    "    # Initialize Q-table with zeros\n",
    "    Q = np.zeros((num_states, num_actions))\n",
    "\n",
    "    rewards_per_episode = [] ## For plotting purposes\n",
    "\n",
    "    for episode in range(num_episodes): ## Iterate over episodes\n",
    "        state, _ = environment.reset() ## For each episode, reset the environment and get the initial state\n",
    "        done = False ## Flag to check if the episode is done\n",
    "        episode_reward = 0 ## Record the total reward of the episode\n",
    "\n",
    "        while not done:\n",
    "            # Choose action using epsilon-greedy policy\n",
    "            if np.random.rand() < exploration_prob:\n",
    "                action = environment.action_space.sample()\n",
    "            else:\n",
    "                action = np.argmax(Q[state])\n",
    "\n",
    "            # Take the action and observe the next state and reward\n",
    "            next_state, reward, done, _, _ = environment.step(action)\n",
    "\n",
    "            # Update Q-value using the Q-learning update rule\n",
    "            best_next_action = np.max(Q[next_state])\n",
    "\n",
    "            # The Q-learning update rule\n",
    "            bellman_update = reward + discount_factor * best_next_action - Q[state, action]\n",
    "\n",
    "            Q[state, action] = Q[state, action] + learning_rate * bellman_update\n",
    "\n",
    "            episode_reward += reward\n",
    "            state = next_state ## Prepare for the next iteration, updating the current state\n",
    "\n",
    "        rewards_per_episode.append(episode_reward)\n",
    "        # Decay exploration probability\n",
    "        exploration_prob *= epsilon_decay\n",
    "    return Q, rewards_per_episode"
   ]
  },
  {
   "cell_type": "markdown",
   "metadata": {
    "pycharm": {
     "name": "#%% md\n"
    },
    "slideshow": {
     "slide_type": "subslide"
    }
   },
   "source": [
    "### Evaluation phase\n",
    "\n",
    "In the evaluation phase, we use the learned Q-table to choose the best action in each state.\n",
    "\n",
    "Therefore, we do not need to explore anymore, so we set the exploration probability to 0 (i.e., we always choose the best action, greedy policy).\n",
    "\n",
    "The evaluation steps are the same as the learning steps, except for the update of the Q-table."
   ]
  },
  {
   "cell_type": "code",
   "execution_count": 8,
   "metadata": {
    "pycharm": {
     "name": "#%%\n"
    },
    "slideshow": {
     "slide_type": "fragment"
    }
   },
   "outputs": [],
   "source": [
    "def evaluate_agent(env, q_table, num_episodes=100, render=False):\n",
    "    total_rewards = [] ## For plotting purposes, total reward for each episode\n",
    "\n",
    "    for episode in range(num_episodes):\n",
    "        state, _ = env.reset()\n",
    "        done = False\n",
    "        episode_reward = 0\n",
    "\n",
    "        while not done:\n",
    "            # Choose the best action according to the learned Q-values\n",
    "            action = np.argmax(q_table[state])\n",
    "            # Take the action and observe the next state and reward\n",
    "            next_state, reward, done, _, _ = env.step(action)\n",
    "\n",
    "            episode_reward += reward\n",
    "            state = next_state\n",
    "            # Rendering the environment for visualization (if render is set to True)\n",
    "            if render:\n",
    "                plt.imshow(env.render())\n",
    "                plt.axis('off')\n",
    "                display.display(plt.gcf())\n",
    "                display.clear_output(wait=True)\n",
    "\n",
    "        total_rewards.append(episode_reward)\n",
    "    return total_rewards"
   ]
  },
  {
   "cell_type": "markdown",
   "metadata": {
    "pycharm": {
     "name": "#%% md\n"
    },
    "slideshow": {
     "slide_type": "skip"
    }
   },
   "source": [
    "In the following, some useful functions to plot the results."
   ]
  },
  {
   "cell_type": "code",
   "execution_count": 9,
   "metadata": {
    "pycharm": {
     "name": "#%%\n"
    },
    "slideshow": {
     "slide_type": "skip"
    }
   },
   "outputs": [],
   "source": [
    "'''\n",
    "Simple function to plot the rewards per episode\n",
    ":param rewards: the rewards per episode (i.e., a list of rewards)\n",
    "'''\n",
    "def plot_rewards(rewards, ax=plt):\n",
    "    ax.plot(rewards)\n",
    "    ax.set_xlabel(\"Episode\")\n",
    "    ax.set_ylabel(\"Total Reward\")\n",
    "\n",
    "def render_q_table(q, ax=plt):\n",
    "    ax.imshow(q, cmap='summer', interpolation='nearest')\n",
    "\n",
    "def render_v_table_from_q(q, x, y, ax=plt):\n",
    "    v = np.max(q, axis=1)\n",
    "    ax.imshow(v.reshape(x,y), cmap='summer', interpolation='nearest')\n",
    "\n",
    "def render_v_table_3d_from_q(q, x, y, ax):\n",
    "    v = np.max(q, axis=1)\n",
    "    X = np.arange(0, x, 1)\n",
    "    Y = np.arange(0, y, 1)\n",
    "    X, Y = np.meshgrid(X, Y)\n",
    "    ax.plot_surface(X, Y, v.reshape(y,x), cmap='summer', linewidth=0, antialiased=False)\n",
    "\n",
    "def statistics(rewards):\n",
    "    avg_reward = np.mean(rewards)\n",
    "    max_reward = np.max(rewards)\n",
    "    min_reward = np.min(rewards)\n",
    "\n",
    "    print(f\"Average reward over {len(rewards)} episodes: {avg_reward}\")\n",
    "    print(f\"Max reward: {max_reward}\")\n",
    "    print(f\"Min reward: {min_reward}\")"
   ]
  },
  {
   "cell_type": "markdown",
   "metadata": {
    "pycharm": {
     "name": "#%% md\n"
    },
    "slideshow": {
     "slide_type": "subslide"
    }
   },
   "source": [
    "### Train and evaluate the agent\n",
    "Here we train the agent for 1000 episodes and then evaluate it for 100 episodes.\n"
   ]
  },
  {
   "cell_type": "code",
   "execution_count": null,
   "metadata": {
    "pycharm": {
     "name": "#%%\n"
    }
   },
   "outputs": [],
   "source": [
    "num_episodes = 3000\n",
    "q_table, rewards_per_episode = q_learning(env, num_episodes=num_episodes)\n",
    "\n",
    "# Evaluate the agent\n",
    "num_evaluation_episodes = 100\n",
    "evaluation_rewards = evaluate_agent(env, q_table, num_episodes=num_evaluation_episodes, render=False)"
   ]
  },
  {
   "cell_type": "code",
   "execution_count": 10,
   "metadata": {
    "pycharm": {
     "name": "#%%\n"
    }
   },
   "outputs": [],
   "source": [
    "'''\n",
    "Simple function to plot the rewards per episode\n",
    ":param rewards: the rewards per episode (i.e., a list of rewards)\n",
    "'''\n",
    "def plot_rewards(rewards, ax=plt, window_size=10):\n",
    "    ## average with a window of 10 sample\n",
    "    rewards = np.convolve(rewards, np.ones(window_size), 'valid') / window_size\n",
    "    ax.plot(rewards)\n",
    "    ax.set_xlabel(\"Episode\")\n",
    "    ax.set_ylabel(\"Total Reward\")\n",
    "\n",
    "def render_q_table(q, ax=plt):\n",
    "    ax.imshow(q, cmap='summer', interpolation='nearest')\n",
    "\n",
    "def render_v_table_from_q(q, x, y, ax=plt):\n",
    "    v = np.max(q, axis=1)\n",
    "    ax.imshow(v.reshape(x,y), cmap='summer', interpolation='nearest')\n",
    "\n",
    "def render_v_table_3d_from_q(q, x, y, ax):\n",
    "    v = np.max(q, axis=1)\n",
    "    X = np.arange(0, x, 1)\n",
    "    Y = np.arange(0, y, 1)\n",
    "    X, Y = np.meshgrid(X, Y)\n",
    "    ax.plot_surface(X, Y, v.reshape(y,x), cmap='summer', linewidth=0, antialiased=False)\n",
    "\n",
    "def statistics(rewards):\n",
    "    avg_reward = np.mean(rewards)\n",
    "    max_reward = np.max(rewards)\n",
    "    min_reward = np.min(rewards)\n",
    "\n",
    "    print(f\"Average reward over {len(rewards)} episodes: {avg_reward}\")\n",
    "    print(f\"Max reward: {max_reward}\")\n",
    "    print(f\"Min reward: {min_reward}\")"
   ]
  },
  {
   "cell_type": "code",
   "execution_count": 11,
   "metadata": {
    "pycharm": {
     "name": "#%%\n"
    }
   },
   "outputs": [],
   "source": [
    "def experiment_analysis(evaluation_rewards, rewards_per_episode, q_table, size=(4, 4)):\n",
    "    x, y = size\n",
    "    # Plot rewards during training and evaluation\n",
    "    statistics(evaluation_rewards)\n",
    "    fig, axs = plt.subplots(1, 2, figsize=(10, 5))\n",
    "    plot_rewards(rewards_per_episode, axs[0])\n",
    "    plot_rewards(evaluation_rewards, axs[1])\n",
    "    plt.show()\n",
    "    ## Plot the three chart in one line\n",
    "    fig = plt.figure()\n",
    "    ax = fig.add_subplot(221)\n",
    "    render_q_table(q_table, ax)\n",
    "    ax = fig.add_subplot(222)\n",
    "    render_v_table_from_q(q_table, x, y, ax)\n",
    "    ax = fig.add_subplot(212, projection='3d')\n",
    "    render_v_table_3d_from_q(q_table, x, y, ax)\n",
    "    plt.show()"
   ]
  },
  {
   "cell_type": "code",
   "execution_count": null,
   "metadata": {
    "pycharm": {
     "name": "#%%\n"
    }
   },
   "outputs": [],
   "source": [
    "experiment_analysis(evaluation_rewards, rewards_per_episode, q_table)"
   ]
  },
  {
   "cell_type": "code",
   "execution_count": null,
   "metadata": {
    "pycharm": {
     "name": "#%%\n"
    }
   },
   "outputs": [],
   "source": [
    "evaluation_rewards = evaluate_agent(env, q_table, num_episodes=5, render=True)"
   ]
  },
  {
   "cell_type": "markdown",
   "metadata": {
    "pycharm": {
     "name": "#%% md\n"
    }
   },
   "source": [
    "## Can you use it in other environments?\n",
    "Sure! You can use the Q-learning algorithm in any environment that has a discrete action space and a discrete observation space.\n",
    "For instance, we can train it in CliffWalking environment."
   ]
  },
  {
   "cell_type": "code",
   "execution_count": null,
   "metadata": {
    "pycharm": {
     "name": "#%%\n"
    }
   },
   "outputs": [],
   "source": [
    "env = gym.make('CliffWalking-v0', render_mode=\"rgb_array\")\n",
    "num_episodes = 1000\n",
    "q_table, rewards_per_episode = q_learning(env, num_episodes=num_episodes)\n",
    "\n",
    "# Evaluate the agent\n",
    "num_evaluation_episodes = 100\n",
    "evaluation_rewards = evaluate_agent(env, q_table, num_episodes=num_evaluation_episodes, render=False)\n",
    "experiment_analysis(evaluation_rewards, rewards_per_episode, q_table, size=(4, 12))"
   ]
  },
  {
   "cell_type": "code",
   "execution_count": null,
   "metadata": {
    "pycharm": {
     "name": "#%%\n"
    }
   },
   "outputs": [],
   "source": [
    "evaluation_rewards = evaluate_agent(env, q_table, num_episodes=5, render=True)"
   ]
  },
  {
   "cell_type": "markdown",
   "metadata": {
    "pycharm": {
     "name": "#%% md\n"
    }
   },
   "source": [
    "## Deep Q Learning\n",
    "Deep Q Learning is a reinforcement learning algorithm that uses a neural network to approximate the Q function.\n",
    "Here we will implement the Deep Q Learning algorithm using PyTorch.\n",
    "Firstly, we need to select the device we will use for training."
   ]
  },
  {
   "cell_type": "code",
   "execution_count": 12,
   "metadata": {
    "pycharm": {
     "name": "#%%\n"
    }
   },
   "outputs": [
    {
     "data": {
      "text/plain": "device(type='cuda')"
     },
     "execution_count": 12,
     "metadata": {},
     "output_type": "execute_result"
    }
   ],
   "source": [
    "# if GPU is to be used\n",
    "device = torch.device(\"cuda\" if torch.cuda.is_available() else \"cpu\")\n",
    "device"
   ]
  },
  {
   "cell_type": "markdown",
   "metadata": {
    "pycharm": {
     "name": "#%% md\n"
    }
   },
   "source": [
    "For reproducibility, we set the seed of the random number generators.\n",
    "This is really import to make the results comparable."
   ]
  },
  {
   "cell_type": "code",
   "execution_count": 13,
   "metadata": {
    "pycharm": {
     "name": "#%%\n"
    }
   },
   "outputs": [],
   "source": [
    "torch.manual_seed(42)\n",
    "seed(42)"
   ]
  },
  {
   "cell_type": "markdown",
   "metadata": {
    "pycharm": {
     "name": "#%% md\n"
    }
   },
   "source": [
    "## Environment: Lunar Lander\n",
    "The Lunar Lander environment is a 2D environment where the goal is to land the lander on the landing pad.\n",
    "\n",
    "The episode ends when the lander crashes or comes to rest.\n",
    "The environment is considered solved when the agent gets an average reward of 200 over 100 consecutive episodes."
   ]
  },
  {
   "cell_type": "markdown",
   "metadata": {
    "pycharm": {
     "name": "#%% md\n"
    }
   },
   "source": [
    "### Action Space\n",
    "\n",
    "The action space is discrete and has 4 possible actions:\n",
    "- Left\n",
    "- Down\n",
    "- Right\n",
    "- Up"
   ]
  },
  {
   "cell_type": "markdown",
   "metadata": {
    "pycharm": {
     "name": "#%% md\n"
    }
   },
   "source": [
    "### Observation space\n",
    "The observation space is continuous and has 8 dimensions:\n",
    "- x position\n",
    "- y position\n",
    "- x velocity\n",
    "- y velocity\n",
    "- angle\n",
    "- angular velocity\n",
    "- left leg contact (bool)\n",
    "- right leg contact (bool)"
   ]
  },
  {
   "cell_type": "markdown",
   "metadata": {
    "pycharm": {
     "name": "#%% md\n"
    }
   },
   "source": [
    "### Reward\n",
    "The reward is given as follows:\n",
    "- +100 for landing on the landing pad\n",
    "- -100 for landing outside the landing pad\n",
    "- -0.3 for using the main engine\n",
    "- -0.03 for using the side engines\n",
    "- +10 for landing on the landing pad with the legs touching the ground"
   ]
  },
  {
   "cell_type": "code",
   "execution_count": 14,
   "metadata": {
    "pycharm": {
     "name": "#%%\n"
    }
   },
   "outputs": [
    {
     "data": {
      "text/plain": "<Figure size 640x480 with 1 Axes>",
      "image/png": "[encoded data removed]"
     },
     "metadata": {},
     "output_type": "display_data"
    }
   ],
   "source": [
    "env = gym.make('LunarLander-v2', render_mode=\"rgb_array\")\n",
    "visualize_environment(env, 0, 100)"
   ]
  },
  {
   "cell_type": "markdown",
   "metadata": {
    "pycharm": {
     "name": "#%% md\n"
    }
   },
   "source": [
    "### Replay Buffer\n",
    "The replay buffer is used to store the experiences of the agent.\n",
    "An **experience** is a tuple of the form (state, action, reward, next_state, done).\n",
    "From this set of experiences, the agent will sample a batch of experiences to train the neural network."
   ]
  },
  {
   "cell_type": "code",
   "execution_count": 19,
   "metadata": {
    "pycharm": {
     "name": "#%%\n"
    }
   },
   "outputs": [],
   "source": [
    "## Factory function to create an experience\n",
    "def create_experience(state, action: int, reward: float, next_state, done: bool):\n",
    "    return {\n",
    "        \"state\" : state, \"action\" : action, \"reward\" : reward, \"next_state\" : next_state, \"done\" : done\n",
    "    }\n",
    "\n",
    "## Replay buffer, it is a deque with a maximum length\n",
    "class ReplayMemory(object):\n",
    "\n",
    "    def __init__(self, capacity):\n",
    "        self.memory = deque([], maxlen=capacity)\n",
    "\n",
    "    def push(self, *args):\n",
    "        self.memory.append(create_experience(*args))\n",
    "\n",
    "    def sample(self, batch_size):\n",
    "        return sample(self.memory, batch_size)\n",
    "\n",
    "    def __len__(self):\n",
    "        return len(self.memory)\n"
   ]
  },
  {
   "cell_type": "markdown",
   "metadata": {
    "pycharm": {
     "name": "#%% md\n"
    }
   },
   "source": [
    "### Network\n",
    "The network is a simple feed-forward neural network with 2 hidden layers.\n",
    "The input of the network is the state and the output is the Q value for each action.\n",
    "It is also possible to use a convolutional neural network as input.\n",
    "In torch, the network is a subclass of `nn.Module`.\n",
    "Another solution is to use the `nn.Sequential` class (similar to Keras)."
   ]
  },
  {
   "cell_type": "code",
   "execution_count": 20,
   "metadata": {
    "pycharm": {
     "name": "#%%\n"
    }
   },
   "outputs": [],
   "source": [
    "class DQN(nn.Module):\n",
    "    def __init__(self, n_observations: int, n_actions: int, hidden_size: int):\n",
    "        super(DQN, self).__init__()\n",
    "        self.layer1 = nn.Linear(n_observations, hidden_size)\n",
    "        self.layer2 = nn.Linear(hidden_size, hidden_size)\n",
    "        self.layer3 = nn.Linear(hidden_size, n_actions)\n",
    "\n",
    "    def forward(self, x):\n",
    "        x = F.relu(self.layer1(x))\n",
    "        x = F.relu(self.layer2(x))\n",
    "        return self.layer3(x)"
   ]
  },
  {
   "cell_type": "markdown",
   "metadata": {
    "pycharm": {
     "name": "#%% md\n"
    }
   },
   "source": [
    "### Exponential Decay\n",
    "The epsilon value is used to control the exploration of the agent.\n",
    "At the beginning of the training, the agent should explore the environment.\n",
    "As the training progresses, the agent should explore less and less.\n",
    "The epsilon value is used to control this exploration.\n",
    "The epsilon value is decayed after each episode following an exponential decay --- a typical solution in RL.\n",
    "A standard initial value for epsilon is 1 and a standard final value is 0.01."
   ]
  },
  {
   "cell_type": "code",
   "execution_count": 21,
   "metadata": {
    "pycharm": {
     "name": "#%%\n"
    }
   },
   "outputs": [],
   "source": [
    "# Exponential decay that decays from start to end. After each call to decay it should reduce the value by decay_rate\n",
    "class ExponentialDecay:\n",
    "    def __init__(self, start: float, end: float, decay_rate: float):\n",
    "        self.start = start\n",
    "        self.end = end\n",
    "        self.decay_rate = decay_rate\n",
    "        self.value = start\n",
    "        self.initial = start\n",
    "    def decay(self):\n",
    "        self.value = max(self.end, self.value * self.decay_rate)\n",
    "\n",
    "    def __call__(self):\n",
    "        return self.value\n",
    "\n",
    "    def reset(self):\n",
    "        self.value = self.initial"
   ]
  },
  {
   "cell_type": "markdown",
   "metadata": {
    "pycharm": {
     "name": "#%% md\n"
    }
   },
   "source": [
    "### Learning Agent\n",
    "The learning agent is the agent that will learn the Q function.\n",
    "It uses the replay buffer and the neural network to learn the Q function.\n",
    "It also needs:\n",
    "- A batch size to sample from the replay buffer\n",
    "- A discount factor gamma\n",
    "- A learning rate for the neural network\n",
    "- An epsilon value for the exploration\n",
    "- The action space for randomly sampling actions\n",
    "\n",
    "Internally, the agent has two neural networks:\n",
    "- The policy network that is used to select actions\n",
    "- The target network that is used to compute the target Q values\n",
    "\n",
    "The target network is updated every `copy_target_every` steps.\n",
    "\n",
    "As optimization algorithm, we use AdamW, but you can use any optimizer you want.\n",
    "\n",
    "The agent can be in two modes:\n",
    "- Learning mode: the agent is learning and the policy network is updated\n",
    "- Evaluation mode: the agent is not learning and the policy network is not updated\n",
    "\n",
    "The agent has key three methods:\n",
    "- `record` to record an experience in the replay buffer and update the policy network (if it is in learning mode)\n",
    "- `act` to select an action given a state (using the policy network)\n",
    "- `act_eps_greedy` to select an action given a state (using the policy network) with epsilon greedy exploration (if it is in learning mode)"
   ]
  },
  {
   "cell_type": "code",
   "execution_count": 22,
   "metadata": {
    "pycharm": {
     "name": "#%%\n"
    }
   },
   "outputs": [],
   "source": [
    "class DQNAgent:\n",
    "    def __init__(\n",
    "             self,\n",
    "             network: nn.Module, # The neural network, it should inherit from nn.Module\n",
    "             memory: ReplayMemory, # The replay buffer\n",
    "             batch_size: int,\n",
    "             gamma: float, # The discount factor\n",
    "             learning_rate: float, # The learning rate\n",
    "             epsilon: ExponentialDecay, # The epsilon value for exploration\n",
    "             action_space: gym.spaces.Space, # The action space used to sample actions\n",
    "             copy_target_every: int = 100\n",
    "         ):\n",
    "        self.policy_network = network\n",
    "        self.target_network = copy.deepcopy(network)\n",
    "        self.policy_network.train()\n",
    "        self.target_network.train()\n",
    "        self.memory = memory\n",
    "        self.batch_size = batch_size\n",
    "        self.gamma = gamma\n",
    "        self.learning_rate = learning_rate\n",
    "        self.optimizer = optim.AdamW(self.policy_network.parameters(), lr=learning_rate, amsgrad=True)\n",
    "        self.epsilon = epsilon\n",
    "        self.copy_target_every = copy_target_every\n",
    "        self.updates = 0\n",
    "        self.action_space = action_space\n",
    "        self.learning = True\n",
    "\n",
    "    def eval(self):\n",
    "        self.policy_network.eval()\n",
    "        self.target_network.eval()\n",
    "        self.learning = False\n",
    "\n",
    "    def train(self):\n",
    "        self.policy_network.train()\n",
    "        self.target_network.train()\n",
    "        self.learning = True\n",
    "\n",
    "    def act(self, state):\n",
    "        with torch.no_grad():\n",
    "            return self.policy_network(state).max(0)[1].item()\n",
    "\n",
    "    def act_epsilon_greedy(self, state):\n",
    "        if not self.learning or random() > self.epsilon():\n",
    "            return self.act(state)\n",
    "        else:\n",
    "            return self.action_space.sample()\n",
    "\n",
    "    def record(self, state, action: int, reward: float, next_state, done: bool):\n",
    "        self.memory.push(state, action, reward, next_state, done)\n",
    "        if len(self.memory) > self.batch_size and self.learning:\n",
    "            self.learn()\n",
    "            self.updates += 1\n",
    "            if self.updates % self.copy_target_every == 0:\n",
    "                self.target_network.load_state_dict(self.policy_network.state_dict())\n",
    "    def learn(self):\n",
    "        batch = self.memory.sample(self.batch_size)\n",
    "        ## Create tensors for the batch\n",
    "        states = torch.stack([experience[\"state\"] for experience in batch]).to(device)\n",
    "        actions = torch.tensor([experience[\"action\"] for experience in batch]).to(device)\n",
    "        rewards = torch.tensor([experience[\"reward\"] for experience in batch]).to(device)\n",
    "        next_states = torch.stack([experience[\"next_state\"] for experience in batch]).to(device)\n",
    "        dones = torch.tensor([experience[\"done\"] for experience in batch])\n",
    "        ## Compute the target\n",
    "        with torch.no_grad(): ## No backprop here, just for the target (i.e. ground truth)\n",
    "            next_state_values = self.target_network(next_states).max(1)[0]\n",
    "        target = rewards + (self.gamma * next_state_values)  # $y_i = r + \\gamma \\max_{a'} Q(s', a', \\theta^-)$\n",
    "        target[dones] = rewards[dones] # If done, then $y_i = r$\n",
    "        ## Compute the prediction\n",
    "        predicted = self.policy_network(states).gather(1, actions.unsqueeze(1)).squeeze(1) # $Q(s, a, \\theta)$\n",
    "        criterion = nn.SmoothL1Loss()\n",
    "        loss = criterion(predicted, target) # L = (y_i - Q(s, a, \\theta))^2\n",
    "        self.optimizer.zero_grad()\n",
    "        loss.backward()\n",
    "        self.optimizer.step()\n"
   ]
  },
  {
   "cell_type": "markdown",
   "metadata": {
    "pycharm": {
     "name": "#%% md\n"
    }
   },
   "source": [
    "### Rendering\n",
    "We use matplotlib to render the environment with virtual display to render the environment.\n",
    "The rendering can be disabled by using the OffRenderer class.\n",
    "The rendering can be enabled by using the OnRenderer class.\n",
    "The OnRenderer class can be configured to render every render_every steps."
   ]
  },
  {
   "cell_type": "code",
   "execution_count": 23,
   "metadata": {
    "pycharm": {
     "name": "#%%\n"
    }
   },
   "outputs": [],
   "source": [
    "class RenderStrategy:\n",
    "    def render(self, data: list):\n",
    "        pass\n",
    "    def update(self):\n",
    "        pass\n",
    "class OffRenderer(RenderStrategy):\n",
    "    def render(self, data: list):\n",
    "        return\n",
    "\n",
    "class OnRenderer(RenderStrategy):\n",
    "    def __init__(self, render_every=1):\n",
    "        self.img = None\n",
    "        self.render_every = render_every\n",
    "        self.render_count = 0\n",
    "    def render(self, data: list):\n",
    "        if self.render_count % self.render_every == 0:\n",
    "            if self.img is None:\n",
    "                self.img = plt.imshow(data)\n",
    "            self.img.set_data(env.render())\n",
    "            plt.axis('off')\n",
    "            display.display(plt.gcf())\n",
    "            display.clear_output(wait=True)\n",
    "    def update(self):\n",
    "        self.render_count += 1\n",
    "        self.img = None"
   ]
  },
  {
   "cell_type": "markdown",
   "metadata": {
    "pycharm": {
     "name": "#%% md\n"
    }
   },
   "source": [
    "### Episode runner\n",
    "The run_episode function runs an episode of the environment.\n",
    "It returns the total reward of the episode.\n",
    "The run_episode function can be configured to render the environment using the render parameter.\n",
    "The run_episode function can be configured to learn using the learning parameter.\n",
    "The steps executed in the run_episode function are:\n",
    "1. Reset the environment and get the initial state\n",
    "2. Initialize the total reward to 0\n",
    "3. Initialize the done flag to False\n",
    "4. While the episode is not done:\n",
    "    1. Render the environment\n",
    "    2. Get the action from the agent\n",
    "    3. Execute the action in the environment\n",
    "    4. Record the experience in the agent (if in learning mode, the agent will also perform a learning step)\n",
    "    5. Update the total reward\n",
    "    6. Update the done flag"
   ]
  },
  {
   "cell_type": "code",
   "execution_count": 24,
   "metadata": {
    "pycharm": {
     "name": "#%%\n"
    }
   },
   "outputs": [],
   "source": [
    "## Episode\n",
    "\n",
    "def run_episode(env: gym.Env, agent: DQNAgent, render: RenderStrategy, learning: bool = True):\n",
    "    if learning: agent.train()\n",
    "    else: agent.eval()\n",
    "    state = env.reset()[0]\n",
    "    total_reward = 0\n",
    "    done = False\n",
    "    while not done:\n",
    "        render.render(env.render()) ## Used for rendering purposes\n",
    "        action = agent.act_epsilon_greedy(torch.tensor(state, dtype=torch.float32, device=device))\n",
    "        next_state, reward, terminated, truncated, info = env.step(action)\n",
    "        if learning:\n",
    "            agent.record(torch.tensor(state, dtype=torch.float32, device=device), action, reward, torch.tensor(next_state, dtype=torch.float32, device=device), done)\n",
    "        state = next_state\n",
    "        done = terminated or truncated\n",
    "        total_reward += reward\n",
    "    return total_reward"
   ]
  },
  {
   "cell_type": "markdown",
   "metadata": {
    "pycharm": {
     "name": "#%% md\n"
    }
   },
   "source": [
    "### Training Loop\n",
    "The train function trains the agent in the environment for a number of episodes.\n",
    "The train function returns a list of rewards for each episode.\n",
    "The train function can be configured to learn using the learning parameter.\n",
    "The steps executed in the train function are:\n",
    "1. For each episode:\n",
    "    1. Run the episode\n",
    "    2. Decay the epsilon\n",
    "    3. Record the reward\n",
    "    4. Print the episode number, reward and epsilon\n",
    "    5. Plot the rewards\n",
    "    6. Update the renderer"
   ]
  },
  {
   "cell_type": "code",
   "execution_count": null,
   "metadata": {
    "pycharm": {
     "name": "#%%\n"
    }
   },
   "outputs": [],
   "source": [
    "def train(env: gym.Env, agent: DQNAgent, episodes: int, render: RenderStrategy):\n",
    "    rewards = []\n",
    "    for episode in range(episodes):\n",
    "        display.clear_output(wait=True)\n",
    "        reward = run_episode(env, agent, render)\n",
    "        agent.epsilon.decay()\n",
    "        rewards.append(reward)\n",
    "        print(f\"Episode: {episode}, Reward: {reward}, Epsilon {agent.epsilon()}\")\n",
    "        ## Plot the rewards\n",
    "        plt.clf()\n",
    "        plt.title(f'Training...  Episode: {episode}')\n",
    "        plt.xlabel('Episode')\n",
    "        plt.ylabel('Duration')\n",
    "        plt.plot(rewards)\n",
    "        display.display(plt.gcf())\n",
    "        render.update()\n",
    "        display.clear_output(wait=True)\n",
    "    return rewards"
   ]
  },
  {
   "cell_type": "markdown",
   "metadata": {
    "pycharm": {
     "name": "#%% md\n"
    }
   },
   "source": [
    "### Training the agent in the environment\n",
    "With all the pieces in place, we can now train the agent in the environment.\n",
    "Firstly, we initialize the environment using the gym.make function.\n",
    "\n",
    "Then, we initialize the agent.\n",
    "We use the DQN network with 256 hidden units, a ReplayMemory with 10000 capacity, a batch size of 128, a discount factor of 0.99, a learning rate of 1e-4 and an epsilon decay of 0.99.\n",
    "The learning is highly influenced by the hyperparameters, so feel free to experiment with them.\n",
    "\n",
    "Finally, we train the agent for 1000 episodes."
   ]
  },
  {
   "cell_type": "code",
   "execution_count": null,
   "metadata": {
    "pycharm": {
     "name": "#%%\n"
    }
   },
   "outputs": [],
   "source": [
    "env = gym.make('LunarLander-v2', render_mode=\"rgb_array\")\n",
    "## Initialize the networks\n",
    "n_observations = env.observation_space.shape[0]\n",
    "n_actions = env.action_space.n\n",
    "hidden_size = 256\n",
    "network = DQN(n_observations, n_actions, hidden_size).to(device)\n",
    "memory = ReplayMemory(10000)\n",
    "batch_size = 128\n",
    "gamma = 0.99\n",
    "learning_rate = 1e-4\n",
    "epsilon = ExponentialDecay(0.9, 0.05, 0.99)\n",
    "agent = DQNAgent(network, memory, batch_size, gamma, learning_rate, epsilon, env.action_space, 1000)\n",
    "\n",
    "train(env, agent, 500, render=OnRenderer(100))\n",
    "\"Trained...\""
   ]
  },
  {
   "cell_type": "markdown",
   "metadata": {
    "pycharm": {
     "name": "#%% md\n"
    }
   },
   "source": [
    "### Evaluating the agent\n",
    "We can evaluate the agent by running an episode in the environment."
   ]
  },
  {
   "cell_type": "code",
   "execution_count": null,
   "metadata": {
    "pycharm": {
     "name": "#%%\n"
    }
   },
   "outputs": [],
   "source": [
    "run_episode(env, agent, render=OnRenderer(1), learning=False)"
   ]
  },
  {
   "cell_type": "markdown",
   "metadata": {
    "pycharm": {
     "name": "#%% md\n"
    }
   },
   "source": [
    "### Is the approach general?\n",
    "The approach we used to solve the Lunar Lander environment can be used to solve other environments as well.\n",
    "We can use the same approach to solve the CartPole environment.\n",
    "The only difference is the hyperparameters. Similarly of what we have done with Q-learning\n",
    "\n",
    "CartPole contains 4 observations and 2 actions.\n",
    "The observations are the position and velocity of the cart and the angle and angular velocity of the pole.\n",
    "The actions are moving left or right.\n",
    "The reward is 1 for every step taken, including the termination step.\n",
    "The episode terminates when the pole is more than 15 degrees from vertical or the cart moves more than 2.4 units from the center.\n",
    "The goal is to keep the pole upright"
   ]
  },
  {
   "cell_type": "code",
   "execution_count": null,
   "metadata": {
    "pycharm": {
     "name": "#%%\n"
    }
   },
   "outputs": [],
   "source": [
    "torch.manual_seed(42)\n",
    "from random import seed\n",
    "\n",
    "seed(42)\n",
    "env = gym.make('CartPole-v1', render_mode=\"rgb_array\")\n",
    "## Initialize the networks\n",
    "n_observations = env.observation_space.shape[0]\n",
    "n_actions = env.action_space.n\n",
    "hidden_size = 128\n",
    "network = DQN(n_observations, n_actions, hidden_size).to(device)\n",
    "memory = ReplayMemory(10000)\n",
    "batch_size = 512\n",
    "gamma = 0.99\n",
    "learning_rate = 0.0001\n",
    "epsilon = ExponentialDecay(0.99, 0.01, 0.95)\n",
    "agent = DQNAgent(network, memory, batch_size, gamma, learning_rate, epsilon, env.action_space, 20000)\n",
    "train(env, agent, 301, render=OnRenderer(20))\n",
    "\"Trained...\"\n"
   ]
  },
  {
   "cell_type": "code",
   "execution_count": null,
   "metadata": {
    "pycharm": {
     "name": "#%%\n"
    }
   },
   "outputs": [],
   "source": [
    "run_episode(env, agent, render=OnRenderer(1), learning=False)"
   ]
  },
  {
   "cell_type": "markdown",
   "metadata": {
    "pycharm": {
     "name": "#%% md\n"
    }
   },
   "source": [
    "## Reinforce -- a policy gradient algorithm\n",
    "REINFORCE algorithm is a policy gradient algorithm.\n",
    "Deep Q Learning can work with discrete action space and deterministic policy.\n",
    "\n",
    "There are environments that can be solved only with stochastic policy.\n",
    "REINFORCE algorithm can be used to solve such environments (also the one with continous action space).\n",
    "\n",
    "It is based on the policy gradient theorem, which states that the gradient of the expected reward is the expected reward of the gradient."
   ]
  },
  {
   "cell_type": "code",
   "execution_count": 25,
   "metadata": {
    "pycharm": {
     "name": "#%%\n"
    }
   },
   "outputs": [],
   "source": [
    "class BaseReinforce(nn.Module):\n",
    "    def __init__(self):\n",
    "        super(BaseReinforce, self).__init__()\n",
    "        self.data = [] ## store the trajectory of a certain rollout (simulation)\n",
    "\n",
    "    def put_data(self, item):\n",
    "        self.data.append(item) ## append data that is a tuple (reward, action probability)\n",
    "\n",
    "    def train_net(self):\n",
    "        G = 0 ## return\n",
    "        self.optimizer.zero_grad()\n",
    "        for r, prob in self.data[::-1]: ## start from the last element, it starts to compute the return for each step\n",
    "            G = r + self.gamma * G ## recursive formula, g_t = r + gamma * g_{t+1}\n",
    "            loss = -torch.log(prob) * G ## compute the loss as the policy gradient states\n",
    "            loss.backward() ## compute the gradients\n",
    "        self.optimizer.step() ## perform the backprop at the end\n",
    "        self.data = []"
   ]
  },
  {
   "cell_type": "markdown",
   "metadata": {
    "pycharm": {
     "name": "#%% md\n"
    }
   },
   "source": [
    "To create a discrete REIFORCE algorithm, we can leverage the softmax activation (that gives as output probabilities) and a categorical distribution to sample actions.\n"
   ]
  },
  {
   "cell_type": "code",
   "execution_count": 26,
   "metadata": {
    "pycharm": {
     "name": "#%%\n"
    }
   },
   "outputs": [],
   "source": [
    "class ReinforceDiscretePolicy(BaseReinforce):\n",
    "    def __init__(self, input_size: int, output_size: int, hidden_size: int, learning_rate: float, gamma: float):\n",
    "        super(ReinforceDiscretePolicy, self).__init__()\n",
    "\n",
    "        self.fc1 = nn.Linear(input_size, hidden_size)\n",
    "        self.fc2 = nn.Linear(hidden_size, output_size)\n",
    "        self.learning_rate = learning_rate\n",
    "        self.gamma = gamma\n",
    "        self.optimizer = optim.Adam(self.parameters(), lr=learning_rate)\n",
    "\n",
    "    def forward(self, x):\n",
    "        x = F.relu(self.fc1(x))\n",
    "        x = F.softmax(self.fc2(x), dim=0)\n",
    "        distribution = Categorical(x)\n",
    "        action = distribution.sample()\n",
    "        return (action, x[action])"
   ]
  },
  {
   "cell_type": "markdown",
   "metadata": {
    "pycharm": {
     "name": "#%% md\n"
    }
   },
   "source": [
    "### Training\n",
    "The training dynamics are similar to the one of Q-learning based algorithm. \n",
    "The main difference here is that it is a monte carlo rollout with an on-policy update.\n",
    "Therefore, before uptading the policy, we need to perform a whole simulation.\n",
    "This means that this **doens't** work for non-episodic tasks."
   ]
  },
  {
   "cell_type": "code",
   "execution_count": 27,
   "metadata": {
    "pycharm": {
     "name": "#%%\n"
    }
   },
   "outputs": [],
   "source": [
    "def reinforce_training(policy, env, episodes):\n",
    "    score = 0.0\n",
    "    print_interval = 20\n",
    "    scores = []\n",
    "    for episode in range(episodes):\n",
    "        state, _ = env.reset()\n",
    "        done = False\n",
    "\n",
    "        while not done:\n",
    "            (action, prob) = policy(torch.from_numpy(state).float())\n",
    "            next_state, r, done, truncated, info = env.step(action.item())\n",
    "            policy.put_data((r,prob))\n",
    "            state = next_state\n",
    "            score += r\n",
    "\n",
    "        policy.train_net()\n",
    "\n",
    "        ## print in the same line and erase the previous line\n",
    "        if episode % print_interval == 0 and episode != 0:\n",
    "            print(\"\\rEpisode {}\\tAverage Score: {:.2f}\".format(episode, score/print_interval), end=\"\")\n",
    "            scores.append(score/print_interval)\n",
    "            score = 0.0\n",
    "    return scores"
   ]
  },
  {
   "cell_type": "markdown",
   "metadata": {
    "pycharm": {
     "name": "#%% md\n"
    }
   },
   "source": [
    "### Evaluation\n",
    "Since this is an on policy, in the evaluation phase we can directly use the policy found.\n",
    "The main difference is that we don't improve the policy anymore after the episode ends."
   ]
  },
  {
   "cell_type": "code",
   "execution_count": 28,
   "metadata": {
    "pycharm": {
     "name": "#%%\n"
    }
   },
   "outputs": [],
   "source": [
    "def eval_reinforce(policy, env, episodes, render:RenderStrategy = OnRenderer()):\n",
    "    score = 0.0\n",
    "    scores = []\n",
    "    for episode in range(episodes):\n",
    "        state, _ = env.reset()\n",
    "        done = False\n",
    "\n",
    "        while not done:\n",
    "            render.render(env.render())\n",
    "            (action, prob) = policy(torch.from_numpy(state).float())\n",
    "            next_state, r, done, truncated, info = env.step(action.item())\n",
    "            state = next_state\n",
    "            score += r\n",
    "        render.update()\n",
    "        display.clear_output(wait=True)\n",
    "    return scores"
   ]
  },
  {
   "cell_type": "code",
   "execution_count": null,
   "outputs": [],
   "source": [
    "env = gym.make('CartPole-v1', render_mode=\"rgb_array\")\n",
    "policy = ReinforceDiscretePolicy(env.observation_space.shape[0], env.action_space.n, 128, 0.0002, 0.98)\n",
    "rewards = reinforce_training(policy, env, 3000)"
   ],
   "metadata": {
    "collapsed": false,
    "pycharm": {
     "name": "#%%\n"
    }
   }
  },
  {
   "cell_type": "code",
   "execution_count": null,
   "outputs": [],
   "source": [
    "statistics(rewards)\n",
    "ax = plt.gca()\n",
    "plot_rewards(rewards, ax)\n",
    "plt.show()"
   ],
   "metadata": {
    "collapsed": false,
    "pycharm": {
     "name": "#%%\n"
    }
   }
  },
  {
   "cell_type": "code",
   "execution_count": null,
   "outputs": [],
   "source": [
    "eval_reinforce(policy, env, 1, render=OnRenderer(1))"
   ],
   "metadata": {
    "collapsed": false,
    "pycharm": {
     "name": "#%%\n"
    }
   }
  },
  {
   "cell_type": "markdown",
   "source": [
    "## Stable Baseline\n",
    "It is a library that provides implementations of reinforcement learning algorithms. It is built on top of Tensorflow and PyTorch. It provides a common interface for all the algorithms and it is easy to use. It also provides a set of tools for training, saving and loading models that can be used for further training or evaluation.\n",
    "Useful links:\n",
    "- [Stable Baselines3](https://stable-baselines3.readthedocs.io/en/master/)\n",
    "\n",
    "Use stable baselines when:\n",
    "- You want to use a pre-implemented algorithm\n",
    "- You want to use a pre-implemented neural network architecture\n",
    "- You want to use a pre-implemented training loop"
   ],
   "metadata": {
    "collapsed": false,
    "pycharm": {
     "name": "#%% md\n"
    }
   }
  },
  {
   "cell_type": "code",
   "execution_count": null,
   "outputs": [],
   "source": [
    "environment = \"CartPole-v1\""
   ],
   "metadata": {
    "collapsed": false,
    "pycharm": {
     "name": "#%%\n"
    }
   }
  },
  {
   "cell_type": "code",
   "execution_count": null,
   "outputs": [],
   "source": [
    "vec_env = make_vec_env(environment, n_envs=4) ## use 4 parallel environments (fast training)\n",
    "model = PPO(\"MlpPolicy\", vec_env, verbose=1) ## Use a multi-layer perceptron policy\n",
    "model.learn(total_timesteps=100000) ## Train for 100k steps\n",
    "model.save(\"ppo\")\n",
    "del model # remove to demonstrate saving and loading"
   ],
   "metadata": {
    "collapsed": false,
    "pycharm": {
     "name": "#%%\n"
    }
   }
  },
  {
   "cell_type": "code",
   "execution_count": null,
   "outputs": [],
   "source": [
    "model = PPO.load(\"ppo\")\n",
    "\n",
    "env = gym.make(environment, render_mode=\"rgb_array\")\n",
    "obs, _ = env.reset()\n",
    "\n",
    "img = plt.imshow(env.render()) ## Used for rendering purposes\n",
    "done = False\n",
    "while not done:\n",
    "    action, _states = model.predict(torch.tensor(obs).unsqueeze(0))\n",
    "    obs, rewards, end, truncated, _ = env.step(action[0])\n",
    "    done = end or truncated\n",
    "    img.set_data(env.render())\n",
    "    plt.axis('off')\n",
    "    display.display(plt.gcf())\n",
    "    display.clear_output(wait=True)\n"
   ],
   "metadata": {
    "collapsed": false,
    "pycharm": {
     "name": "#%%\n"
    }
   }
  },
  {
   "cell_type": "markdown",
   "source": [
    "## Model your own environment\n",
    "In this case, we will model a stock trading environment. The environment will be a gym environment, so we will be able to use it with stable baselines (or the other algorithms that we implemented so far).\n",
    "\n",
    "Firstly, we try to observe the data that we have (in GOOGL.csv)"
   ],
   "metadata": {
    "collapsed": false,
    "pycharm": {
     "name": "#%% md\n"
    }
   }
  },
  {
   "cell_type": "markdown",
   "source": [
    "### Data exploration\n",
    "We use pandas to load the data and matplotlib to plot it."
   ],
   "metadata": {
    "collapsed": false,
    "pycharm": {
     "name": "#%% md\n"
    }
   }
  },
  {
   "cell_type": "code",
   "execution_count": 29,
   "outputs": [
    {
     "data": {
      "text/plain": "            Date         Open         High          Low        Close  \\\n0     2004-08-19    50.050049    52.082081    48.028027    50.220219   \n1     2004-08-20    50.555557    54.594597    50.300301    54.209209   \n2     2004-08-23    55.430431    56.796799    54.579578    54.754753   \n3     2004-08-24    55.675674    55.855858    51.836838    52.487488   \n4     2004-08-25    52.532532    54.054054    51.991993    53.053055   \n...          ...          ...          ...          ...          ...   \n4426  2022-03-18  2668.489990  2724.879883  2645.169922  2722.510010   \n4427  2022-03-21  2723.270020  2741.000000  2681.850098  2722.030029   \n4428  2022-03-22  2722.030029  2821.000000  2722.030029  2797.360107   \n4429  2022-03-23  2774.050049  2791.770020  2756.699951  2765.510010   \n4430  2022-03-24  2784.000000  2832.379883  2755.010010  2831.439941   \n\n        Adj Close    Volume  \n0       50.220219  44659096  \n1       54.209209  22834343  \n2       54.754753  18256126  \n3       52.487488  15247337  \n4       53.053055   9188602  \n...           ...       ...  \n4426  2722.510010   2223100  \n4427  2722.030029   1341600  \n4428  2797.360107   1774800  \n4429  2765.510010   1257700  \n4430  2831.439941   1317900  \n\n[4431 rows x 7 columns]",
      "text/html": "<div>\n<style scoped>\n    .dataframe tbody tr th:only-of-type {\n        vertical-align: middle;\n    }\n\n    .dataframe tbody tr th {\n        vertical-align: top;\n    }\n\n    .dataframe thead th {\n        text-align: right;\n    }\n</style>\n<table border=\"1\" class=\"dataframe\">\n  <thead>\n    <tr style=\"text-align: right;\">\n      <th></th>\n      <th>Date</th>\n      <th>Open</th>\n      <th>High</th>\n      <th>Low</th>\n      <th>Close</th>\n      <th>Adj Close</th>\n      <th>Volume</th>\n    </tr>\n  </thead>\n  <tbody>\n    <tr>\n      <th>0</th>\n      <td>2004-08-19</td>\n      <td>50.050049</td>\n      <td>52.082081</td>\n      <td>48.028027</td>\n      <td>50.220219</td>\n      <td>50.220219</td>\n      <td>44659096</td>\n    </tr>\n    <tr>\n      <th>1</th>\n      <td>2004-08-20</td>\n      <td>50.555557</td>\n      <td>54.594597</td>\n      <td>50.300301</td>\n      <td>54.209209</td>\n      <td>54.209209</td>\n      <td>22834343</td>\n    </tr>\n    <tr>\n      <th>2</th>\n      <td>2004-08-23</td>\n      <td>55.430431</td>\n      <td>56.796799</td>\n      <td>54.579578</td>\n      <td>54.754753</td>\n      <td>54.754753</td>\n      <td>18256126</td>\n    </tr>\n    <tr>\n      <th>3</th>\n      <td>2004-08-24</td>\n      <td>55.675674</td>\n      <td>55.855858</td>\n      <td>51.836838</td>\n      <td>52.487488</td>\n      <td>52.487488</td>\n      <td>15247337</td>\n    </tr>\n    <tr>\n      <th>4</th>\n      <td>2004-08-25</td>\n      <td>52.532532</td>\n      <td>54.054054</td>\n      <td>51.991993</td>\n      <td>53.053055</td>\n      <td>53.053055</td>\n      <td>9188602</td>\n    </tr>\n    <tr>\n      <th>...</th>\n      <td>...</td>\n      <td>...</td>\n      <td>...</td>\n      <td>...</td>\n      <td>...</td>\n      <td>...</td>\n      <td>...</td>\n    </tr>\n    <tr>\n      <th>4426</th>\n      <td>2022-03-18</td>\n      <td>2668.489990</td>\n      <td>2724.879883</td>\n      <td>2645.169922</td>\n      <td>2722.510010</td>\n      <td>2722.510010</td>\n      <td>2223100</td>\n    </tr>\n    <tr>\n      <th>4427</th>\n      <td>2022-03-21</td>\n      <td>2723.270020</td>\n      <td>2741.000000</td>\n      <td>2681.850098</td>\n      <td>2722.030029</td>\n      <td>2722.030029</td>\n      <td>1341600</td>\n    </tr>\n    <tr>\n      <th>4428</th>\n      <td>2022-03-22</td>\n      <td>2722.030029</td>\n      <td>2821.000000</td>\n      <td>2722.030029</td>\n      <td>2797.360107</td>\n      <td>2797.360107</td>\n      <td>1774800</td>\n    </tr>\n    <tr>\n      <th>4429</th>\n      <td>2022-03-23</td>\n      <td>2774.050049</td>\n      <td>2791.770020</td>\n      <td>2756.699951</td>\n      <td>2765.510010</td>\n      <td>2765.510010</td>\n      <td>1257700</td>\n    </tr>\n    <tr>\n      <th>4430</th>\n      <td>2022-03-24</td>\n      <td>2784.000000</td>\n      <td>2832.379883</td>\n      <td>2755.010010</td>\n      <td>2831.439941</td>\n      <td>2831.439941</td>\n      <td>1317900</td>\n    </tr>\n  </tbody>\n</table>\n<p>4431 rows × 7 columns</p>\n</div>"
     },
     "execution_count": 29,
     "metadata": {},
     "output_type": "execute_result"
    }
   ],
   "source": [
    "google_stock = pd.read_csv(\"GOOGL.csv\")\n",
    "google_stock"
   ],
   "metadata": {
    "collapsed": false,
    "pycharm": {
     "name": "#%%\n"
    }
   }
  },
  {
   "cell_type": "code",
   "execution_count": 30,
   "outputs": [
    {
     "data": {
      "text/plain": "<AxesSubplot: xlabel='Date'>"
     },
     "execution_count": 30,
     "metadata": {},
     "output_type": "execute_result"
    },
    {
     "data": {
      "text/plain": "<Figure size 640x480 with 1 Axes>",
      "image/png": "[encoded data removed]"
     },
     "metadata": {},
     "output_type": "display_data"
    }
   ],
   "source": [
    "google_stock.plot(x=\"Date\", y=\"Close\")"
   ],
   "metadata": {
    "collapsed": false,
    "pycharm": {
     "name": "#%%\n"
    }
   }
  },
  {
   "cell_type": "markdown",
   "source": [
    "We will use the Close column as the price of the stock to create the state.\n",
    "To verify our approach, we divide the data into training and test set."
   ],
   "metadata": {
    "collapsed": false,
    "pycharm": {
     "name": "#%% md\n"
    }
   }
  },
  {
   "cell_type": "code",
   "execution_count": 31,
   "outputs": [],
   "source": [
    "training_data = google_stock[google_stock[\"Date\"] < \"2014-01-01\"]\n",
    "test_data = google_stock[google_stock[\"Date\"] >= \"2014-01-01\"]"
   ],
   "metadata": {
    "collapsed": false,
    "pycharm": {
     "name": "#%%\n"
    }
   }
  },
  {
   "cell_type": "markdown",
   "source": [
    "### Modelling the environment\n",
    "We will model the environment as a gym environment.\n",
    "Therefore, we need to define the state, the action space and the reward function."
   ],
   "metadata": {
    "collapsed": false,
    "pycharm": {
     "name": "#%% md\n"
    }
   }
  },
  {
   "cell_type": "markdown",
   "source": [
    "#### State\n",
    "The state will be the current stock price and the current inventory.\n",
    "Any other ideas??\n"
   ],
   "metadata": {
    "collapsed": false,
    "pycharm": {
     "name": "#%% md\n"
    }
   }
  },
  {
   "cell_type": "markdown",
   "source": [
    "#### Action space\n",
    "The action space will be discrete, and it will be composed of 3 actions:\n",
    "- Sell\n",
    "- Hold\n",
    "- Buy"
   ],
   "metadata": {
    "collapsed": false,
    "pycharm": {
     "name": "#%% md\n"
    }
   }
  },
  {
   "cell_type": "markdown",
   "source": [
    "#### Reward function\n",
    "The reward function will be the profit that we make at the end of the episode."
   ],
   "metadata": {
    "collapsed": false,
    "pycharm": {
     "name": "#%% md\n"
    }
   }
  },
  {
   "cell_type": "code",
   "execution_count": 36,
   "outputs": [],
   "source": [
    "class StockTradingEnv(gym.Env):\n",
    "    def __init__(self, stock_data, start_cash=1000):\n",
    "        super(StockTradingEnv, self).__init__()\n",
    "\n",
    "        # Stock data should be a pandas DataFrame with 'Date' and 'Close' columns\n",
    "        self.stock_data = stock_data\n",
    "        self.n_days = len(stock_data)\n",
    "\n",
    "        self.current_day = None ## start day (always from 0)\n",
    "        self.start_cash = start_cash  # Starting cash for the agent\n",
    "        self.current_cash = None ## Current cash that we have\n",
    "        self.current_stock_price = None ## Current stock price\n",
    "        self.current_inventory = None ## Number of stocks that we have\n",
    "\n",
    "        self.action_space = gym.spaces.Discrete(3)  # Sell, Hold, Buy\n",
    "        self.observation_space = gym.spaces.Box(\n",
    "            low=0,\n",
    "            high=np.inf,\n",
    "            shape=(2,),  # Current stock price and current inventory\n",
    "            dtype=np.float32\n",
    "        )\n",
    "\n",
    "    def reset(self, **kwargs):\n",
    "        self.current_day = 0\n",
    "        self.current_cash = self.start_cash\n",
    "        self.current_stock_price = self.stock_data.iloc[self.current_day]['Close']\n",
    "        self.current_inventory = 0\n",
    "\n",
    "        return np.array([self.current_stock_price, self.current_inventory]), 0.0\n",
    "\n",
    "    def step(self, action):\n",
    "        assert self.action_space.contains(action)\n",
    "\n",
    "        done = False\n",
    "        reward = 0\n",
    "\n",
    "        # Execute the action\n",
    "        if action == 0:  # Sell\n",
    "            if self.current_inventory > 0:\n",
    "                self.current_cash += self.current_stock_price * self.current_inventory\n",
    "                self.current_inventory = 0\n",
    "        elif action == 2:  # Buy\n",
    "            if self.current_cash > 0:\n",
    "                max_can_buy = int(self.current_cash / self.current_stock_price)\n",
    "                self.current_inventory += max_can_buy\n",
    "                self.current_cash -= max_can_buy * self.current_stock_price\n",
    "\n",
    "        # Move to the next day\n",
    "        self.current_day += 1\n",
    "        ## Simulation over, collect the reward\n",
    "        if self.current_day >= self.n_days:\n",
    "            done = True\n",
    "            reward = self.current_cash + self.current_inventory * self.current_stock_price - self.start_cash\n",
    "        else: ## update the state\n",
    "            self.current_stock_price = self.stock_data.iloc[self.current_day]['Close']\n",
    "\n",
    "        # Calculate the reward (simple buy-and-hold strategy)\n",
    "        if self.current_day == self.n_days - 1:\n",
    "            reward = self.current_cash + self.current_inventory * self.current_stock_price - self.start_cash\n",
    "\n",
    "        return np.array([self.current_stock_price, self.current_inventory]), reward, done, False, {}"
   ],
   "metadata": {
    "collapsed": false,
    "pycharm": {
     "name": "#%%\n"
    }
   }
  },
  {
   "cell_type": "code",
   "execution_count": 37,
   "outputs": [
    {
     "name": "stdout",
     "output_type": "stream",
     "text": [
      "Using cuda device\n",
      "Wrapping the env with a `Monitor` wrapper\n",
      "Wrapping the env in a DummyVecEnv.\n",
      "----------------------------------\n",
      "| rollout/            |          |\n",
      "|    ep_len_mean      | 2.36e+03 |\n",
      "|    ep_rew_mean      | 5.88e+03 |\n",
      "|    exploration_rate | 0.104    |\n",
      "| time/               |          |\n",
      "|    episodes         | 4        |\n",
      "|    fps              | 4972     |\n",
      "|    time_elapsed     | 1        |\n",
      "|    total_timesteps  | 9436     |\n",
      "----------------------------------\n",
      "----------------------------------\n",
      "| rollout/            |          |\n",
      "|    ep_len_mean      | 2.36e+03 |\n",
      "|    ep_rew_mean      | 5.88e+03 |\n",
      "|    exploration_rate | 0.05     |\n",
      "| time/               |          |\n",
      "|    episodes         | 8        |\n",
      "|    fps              | 4981     |\n",
      "|    time_elapsed     | 3        |\n",
      "|    total_timesteps  | 18872    |\n",
      "----------------------------------\n",
      "----------------------------------\n",
      "| rollout/            |          |\n",
      "|    ep_len_mean      | 2.36e+03 |\n",
      "|    ep_rew_mean      | 6.61e+03 |\n",
      "|    exploration_rate | 0.05     |\n",
      "| time/               |          |\n",
      "|    episodes         | 12       |\n",
      "|    fps              | 5026     |\n",
      "|    time_elapsed     | 5        |\n",
      "|    total_timesteps  | 28308    |\n",
      "----------------------------------\n",
      "----------------------------------\n",
      "| rollout/            |          |\n",
      "|    ep_len_mean      | 2.36e+03 |\n",
      "|    ep_rew_mean      | 6.39e+03 |\n",
      "|    exploration_rate | 0.05     |\n",
      "| time/               |          |\n",
      "|    episodes         | 16       |\n",
      "|    fps              | 5144     |\n",
      "|    time_elapsed     | 7        |\n",
      "|    total_timesteps  | 37744    |\n",
      "----------------------------------\n",
      "----------------------------------\n",
      "| rollout/            |          |\n",
      "|    ep_len_mean      | 2.36e+03 |\n",
      "|    ep_rew_mean      | 6.45e+03 |\n",
      "|    exploration_rate | 0.05     |\n",
      "| time/               |          |\n",
      "|    episodes         | 20       |\n",
      "|    fps              | 5310     |\n",
      "|    time_elapsed     | 8        |\n",
      "|    total_timesteps  | 47180    |\n",
      "----------------------------------\n",
      "----------------------------------\n",
      "| rollout/            |          |\n",
      "|    ep_len_mean      | 2.36e+03 |\n",
      "|    ep_rew_mean      | 7.1e+03  |\n",
      "|    exploration_rate | 0.05     |\n",
      "| time/               |          |\n",
      "|    episodes         | 24       |\n",
      "|    fps              | 3655     |\n",
      "|    time_elapsed     | 15       |\n",
      "|    total_timesteps  | 56616    |\n",
      "| train/              |          |\n",
      "|    learning_rate    | 0.0001   |\n",
      "|    loss             | 0.00832  |\n",
      "|    n_updates        | 1653     |\n",
      "----------------------------------\n",
      "----------------------------------\n",
      "| rollout/            |          |\n",
      "|    ep_len_mean      | 2.36e+03 |\n",
      "|    ep_rew_mean      | 8.31e+03 |\n",
      "|    exploration_rate | 0.05     |\n",
      "| time/               |          |\n",
      "|    episodes         | 28       |\n",
      "|    fps              | 2732     |\n",
      "|    time_elapsed     | 24       |\n",
      "|    total_timesteps  | 66052    |\n",
      "| train/              |          |\n",
      "|    learning_rate    | 0.0001   |\n",
      "|    loss             | 0.00955  |\n",
      "|    n_updates        | 4012     |\n",
      "----------------------------------\n",
      "----------------------------------\n",
      "| rollout/            |          |\n",
      "|    ep_len_mean      | 2.36e+03 |\n",
      "|    ep_rew_mean      | 8.69e+03 |\n",
      "|    exploration_rate | 0.05     |\n",
      "| time/               |          |\n",
      "|    episodes         | 32       |\n",
      "|    fps              | 2304     |\n",
      "|    time_elapsed     | 32       |\n",
      "|    total_timesteps  | 75488    |\n",
      "| train/              |          |\n",
      "|    learning_rate    | 0.0001   |\n",
      "|    loss             | 0.00694  |\n",
      "|    n_updates        | 6371     |\n",
      "----------------------------------\n",
      "----------------------------------\n",
      "| rollout/            |          |\n",
      "|    ep_len_mean      | 2.36e+03 |\n",
      "|    ep_rew_mean      | 9.37e+03 |\n",
      "|    exploration_rate | 0.05     |\n",
      "| time/               |          |\n",
      "|    episodes         | 36       |\n",
      "|    fps              | 2054     |\n",
      "|    time_elapsed     | 41       |\n",
      "|    total_timesteps  | 84924    |\n",
      "| train/              |          |\n",
      "|    learning_rate    | 0.0001   |\n",
      "|    loss             | 0.00646  |\n",
      "|    n_updates        | 8730     |\n",
      "----------------------------------\n",
      "----------------------------------\n",
      "| rollout/            |          |\n",
      "|    ep_len_mean      | 2.36e+03 |\n",
      "|    ep_rew_mean      | 9.75e+03 |\n",
      "|    exploration_rate | 0.05     |\n",
      "| time/               |          |\n",
      "|    episodes         | 40       |\n",
      "|    fps              | 1890     |\n",
      "|    time_elapsed     | 49       |\n",
      "|    total_timesteps  | 94360    |\n",
      "| train/              |          |\n",
      "|    learning_rate    | 0.0001   |\n",
      "|    loss             | 0.0125   |\n",
      "|    n_updates        | 11089    |\n",
      "----------------------------------\n"
     ]
    }
   ],
   "source": [
    "from stable_baselines3 import DQN as StableDQN\n",
    "env = StockTradingEnv(training_data)\n",
    "model = StableDQN(\"MlpPolicy\", env, verbose=1) ## Use a multi-layer perceptron policy\n",
    "model.learn(total_timesteps=100000) ## Train for 100k steps\n",
    "model.save(\"dqn-trading\")"
   ],
   "metadata": {
    "collapsed": false,
    "pycharm": {
     "name": "#%%\n"
    }
   }
  },
  {
   "cell_type": "code",
   "execution_count": 39,
   "outputs": [
    {
     "name": "stdout",
     "output_type": "stream",
     "text": [
      "4548.64563\n",
      "1507.7176088000003\n",
      "3.0169082084411607\n"
     ]
    }
   ],
   "source": [
    "def evaluate(env, times=10, policy=lambda obs: env.action_space.sample()):\n",
    "    total_reward = 0\n",
    "    for _ in range(times):\n",
    "        obs, _ = env.reset()\n",
    "        done = False\n",
    "        while not done:\n",
    "            action = policy(obs)\n",
    "            obs, rewards, end, truncated, _ = env.step(action)\n",
    "            done = end or truncated\n",
    "            total_reward += rewards\n",
    "    return total_reward / times\n",
    "\n",
    "model = StableDQN.load(\"dqn-trading\")\n",
    "env = StockTradingEnv(test_data)\n",
    "total_reward = evaluate(env, times=10, policy=lambda obs: model.predict(torch.tensor(obs).unsqueeze(0), deterministic=True)[0][0])\n",
    "random_reward = evaluate(env, times=10, policy=lambda obs: env.action_space.sample())\n",
    "\n",
    "print(total_reward)\n",
    "print(random_reward)\n",
    "print(total_reward / random_reward)\n"
   ],
   "metadata": {
    "collapsed": false,
    "pycharm": {
     "name": "#%%\n"
    }
   }
  }
 ],
 "metadata": {
  "celltoolbar": "Slideshow",
  "colab": {
   "provenance": []
  },
  "kernelspec": {
   "display_name": "Python 3 (ipykernel)",
   "language": "python",
   "name": "python3"
  },
  "language_info": {
   "codemirror_mode": {
    "name": "ipython",
    "version": 3
   },
   "file_extension": ".py",
   "mimetype": "text/x-python",
   "name": "python",
   "nbconvert_exporter": "python",
   "pygments_lexer": "ipython3",
   "version": "3.9.13"
  },
  "rise": {
   "scroll": true,
   "theme": "solarized"
  }
 },
 "nbformat": 4,
 "nbformat_minor": 1
}